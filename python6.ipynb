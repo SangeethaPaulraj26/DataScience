{
  "nbformat": 4,
  "nbformat_minor": 0,
  "metadata": {
    "colab": {
      "provenance": [],
      "authorship_tag": "ABX9TyPdQQNKP9BO4B2K274KeSvc",
      "include_colab_link": true
    },
    "kernelspec": {
      "name": "python3",
      "display_name": "Python 3"
    },
    "language_info": {
      "name": "python"
    }
  },
  "cells": [
    {
      "cell_type": "markdown",
      "metadata": {
        "id": "view-in-github",
        "colab_type": "text"
      },
      "source": [
        "<a href=\"https://colab.research.google.com/github/SangeethaPaulraj26/DataScience/blob/main/python6.ipynb\" target=\"_parent\"><img src=\"https://colab.research.google.com/assets/colab-badge.svg\" alt=\"Open In Colab\"/></a>"
      ]
    },
    {
      "cell_type": "markdown",
      "source": [
        "**Find N largest numbers**\n"
      ],
      "metadata": {
        "id": "pRZnGZeKxaUM"
      }
    },
    {
      "cell_type": "code",
      "execution_count": 8,
      "metadata": {
        "colab": {
          "base_uri": "https://localhost:8080/"
        },
        "id": "F4nE1Y2zv2gL",
        "outputId": "35d53d57-6f1f-4af0-8d41-852a20a9531b"
      },
      "outputs": [
        {
          "output_type": "stream",
          "name": "stdout",
          "text": [
            "N:3\n",
            "[999, 888, 567]\n"
          ]
        }
      ],
      "source": [
        "def find_n_lar_ele(lst, n):\n",
        "\n",
        "  sorted_list=sorted(lst, reverse=True)\n",
        "  lar_ele=sorted_list[:n]\n",
        "  return lar_ele\n",
        "\n",
        "numbers=[250,1,2,3,4,5,67,78,888,999,000,123,345,567]\n",
        "N=int(input(\"N:\"))\n",
        "list=find_n_lar_ele(numbers,N)\n",
        "print(list)\n"
      ]
    },
    {
      "cell_type": "markdown",
      "source": [
        "**Print Even Numbers**"
      ],
      "metadata": {
        "id": "LR6ppaeSxhj5"
      }
    },
    {
      "cell_type": "code",
      "source": [
        "numbers = [1,2,3,4,5,6,7,8,9,10]\n",
        "\n",
        "even=[num for num in numbers if num%2==0]\n",
        "print(\"Even numbers:\", even)"
      ],
      "metadata": {
        "colab": {
          "base_uri": "https://localhost:8080/"
        },
        "id": "SkbC_jHVwmMf",
        "outputId": "b7d58c26-6ffa-4b2a-fe47-d4b44606a9fe"
      },
      "execution_count": 11,
      "outputs": [
        {
          "output_type": "stream",
          "name": "stdout",
          "text": [
            "Even numbers: [2, 4, 6, 8, 10]\n"
          ]
        }
      ]
    },
    {
      "cell_type": "markdown",
      "source": [
        "**Print odd numbers**"
      ],
      "metadata": {
        "id": "CEi6exsqyQKV"
      }
    },
    {
      "cell_type": "code",
      "source": [
        "numbers = [1,2,3,4,5,6,7,8,9,10]\n",
        "\n",
        "odd=[num for num in numbers if num%2!=0]\n",
        "print(\"odd numbers:\", odd)"
      ],
      "metadata": {
        "colab": {
          "base_uri": "https://localhost:8080/"
        },
        "id": "xEJliulZyFXa",
        "outputId": "9108a41f-0f41-4e5b-fbe5-1e303fe67054"
      },
      "execution_count": 12,
      "outputs": [
        {
          "output_type": "stream",
          "name": "stdout",
          "text": [
            "odd numbers: [1, 3, 5, 7, 9]\n"
          ]
        }
      ]
    },
    {
      "cell_type": "markdown",
      "source": [
        "**Remove empty list**"
      ],
      "metadata": {
        "id": "k-RiD2yJy-TK"
      }
    },
    {
      "cell_type": "code",
      "source": [
        "lists=[[1,2,3], [],[3],[4,5],[]]\n",
        "\n",
        "filteres=[i for i in lists if i]\n",
        "\n",
        "print(\"filtered_list:\", filteres)"
      ],
      "metadata": {
        "colab": {
          "base_uri": "https://localhost:8080/"
        },
        "id": "RpJ4kIW_yZLZ",
        "outputId": "b21cf830-1c18-487d-edd1-0b6854e51db7"
      },
      "execution_count": 15,
      "outputs": [
        {
          "output_type": "stream",
          "name": "stdout",
          "text": [
            "filtered_list: [[1, 2, 3], [3], [4, 5]]\n"
          ]
        }
      ]
    },
    {
      "cell_type": "markdown",
      "source": [
        "**Cloning or copying the list**"
      ],
      "metadata": {
        "id": "J3YBrmztzDIE"
      }
    },
    {
      "cell_type": "code",
      "source": [
        "list = [11,22,33,44,55]\n",
        "\n",
        "cloned_list=list[:]\n",
        "print(cloned_list)"
      ],
      "metadata": {
        "colab": {
          "base_uri": "https://localhost:8080/"
        },
        "id": "ypSopVDcy0dJ",
        "outputId": "439688d8-5880-4fac-903e-1b2e0b79cc1a"
      },
      "execution_count": 16,
      "outputs": [
        {
          "output_type": "stream",
          "name": "stdout",
          "text": [
            "[11, 22, 33, 44, 55]\n"
          ]
        }
      ]
    },
    {
      "cell_type": "markdown",
      "source": [
        "**count occurences of an element**"
      ],
      "metadata": {
        "id": "iMVoFQouzzzK"
      }
    },
    {
      "cell_type": "code",
      "source": [
        "def count_occurences(l,element):\n",
        "  count=l.count(element)\n",
        "  return count\n",
        "\n",
        "\n",
        "numbers=[1,2,3,4,5,6,6,5,9,2,8,6,9,2,5,6,7,7,7,8,9]\n",
        "event=int(input(\"count:\"))\n",
        "numbers_of_occurences=count_occurences(numbers,event)\n",
        "print(numbers_of_occurences)"
      ],
      "metadata": {
        "colab": {
          "base_uri": "https://localhost:8080/"
        },
        "id": "KvKj4hOHzcva",
        "outputId": "1da40ff8-deac-4dcc-d31f-3826a3e14b21"
      },
      "execution_count": 22,
      "outputs": [
        {
          "output_type": "stream",
          "name": "stdout",
          "text": [
            "count:6\n",
            "4\n"
          ]
        }
      ]
    },
    {
      "cell_type": "code",
      "source": [],
      "metadata": {
        "id": "qRs9f1_70gcj"
      },
      "execution_count": 21,
      "outputs": []
    }
  ]
}